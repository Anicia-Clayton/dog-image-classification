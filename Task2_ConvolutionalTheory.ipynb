ial dimensions.\n",
       "  strides: An integer or tuple/list of 2 integers, specifying the strides of\n",
       "    the convolution along the height and width. Can be a single integer to\n",
       "    specify the same value for all spatial dimensions. Specifying any stride\n",
       "    value != 1 is incompatible with specifying any `dilation_rate` value != 1.\n",
       "  padding: one of `\"valid\"` or `\"same\"` (case-insensitive).\n",
       "  data_format: A string, one of `channels_last` (default) or `channels_first`.\n",
       "    The ordering of the dimensions in the inputs. `channels_last` corresponds\n",
       "    to inputs with shape `(batch_size, height, width, channels)` while\n",
       "    `channels_first` corresponds to inputs with shape `(batch_size, channels,\n",
       "    height, width)`. It defaults to the `image_data_format` value found in\n",
       "    your Keras config file at `~/.keras/keras.json`. If you never set it, then\n",
       "    it will be `channels_last`.\n",
       "  dilation_rate: an integer or tuple/list of 2 integers, specifying the\n",
       "    dilation rate to use for dilated convolution. Can be a single integer to\n",
       "    specify the same value for all spatial dimensions. Currently, specifying\n",
       "    any `dilation_rate` value != 1 is incompatible with specifying any stride\n",
       "    value != 1.\n",
       "  groups: A positive integer specifying the number of groups in which the\n",
       "    input is split along the channel axis. Each group is convolved separately\n",
       "    with `filters / groups` filters. The output is the concatenation of all\n",
       "    the `groups` results along the channel axis. Input channels and `filters`\n",
       "    must both be divisible by `groups`.\n",
       "  activation: Activation function to use. If you don't specify anything, no\n",
       "    activation is applied (see `keras.activations`).\n",
       "  use_bias: Boolean, whether the layer uses a bias vector.\n",
       "  kernel_initializer: Initializer for the `kernel` weights matrix (see\n",
       "    `keras.initializers`).\n",
       "  bias_initializer: Initializer for the bias vector (see\n",
       "    `keras.initializers`).\n",
       "  kernel_regularizer: Regularizer function applied to the `kernel` weights\n",
       "    matrix (see `keras.regularizers`).\n",
       "  bias_regularizer: Regularizer function applied to the bias vector (see\n",
       "    `keras.regularizers`).\n",
       "  activity_regularizer: Regularizer function applied to the output of the\n",
       "    layer (its \"activation\") (see `keras.regularizers`).\n",
       "  kernel_constraint: Constraint function applied to the kernel matrix (see\n",
       "    `keras.constraints`).\n",
       "  bias_constraint: Constraint function applied to the bias vector (see\n",
       "    `keras.constraints`).\n",
       "Input shape:\n",
       "  4+D tensor with shape: `batch_shape + (channels, rows, cols)` if\n",
       "    `data_format='channels_first'`\n",
       "  or 4+D tensor with shape: `batch_shape + (rows, cols, channels)` if\n",
       "    `data_format='channels_last'`.\n",
       "Output shape:\n",
       "  4+D tensor with shape: `batch_shape + (filters, new_rows, new_cols)` if\n",
       "  `data_format='channels_first'` or 4+D tensor with shape: `batch_shape +\n",
       "    (new_rows, new_cols, filters)` if `data_format='channels_last'`.  `rows`\n",
       "    and `cols` values might have changed due to padding.\n",
       "\n",
       "Returns:\n",
       "  A tensor of rank 4+ representing\n",
       "  `activation(conv2d(inputs, kernel) + bias)`.\n",
       "\n",
       "Raises:\n",
       "  ValueError: if `padding` is `\"causal\"`.\n",
       "  ValueError: when both `strides > 1` and `dilation_rate > 1`.\n",
       "\u001b[0;31mFile:\u001b[0m           ~/opt/anaconda3/lib/python3.7/site-packages/tensorflow/python/keras/layers/convolutional.py\n",
       "\u001b[0;31mType:\u001b[0m           type\n",
       "\u001b[0;31mSubclasses:\u001b[0m     Conv2DTranspose, DepthwiseConv2D, Conv2D\n"
      ]
     },
     "metadata": {},
     "output_type": "display_data"
    }
   ],
   "source": [
    "tf.keras.layers.Conv2D?"
   ]
  },
  {
   "cell_type": "code",
   "execution_count": 4,
   "metadata": {},
   "outputs": [
    {
     "name": "stdout",
     "output_type": "stream",
     "text": [
      "(4, 28, 28, 2)\n"
     ]
    }
   ],
   "source": [
    "y = tf.keras.layers.Conv2D(\n",
    "    filters=2, \n",
    "    kernel_size=3,\n",
    "    strides=1,\n",
    "    activation='relu', \n",
    "    padding=\"same\", \n",
    "    input_shape=input_shape[1:]\n",
    ")(x)\n",
    "print(y.shape)"
   ]
  },
  {
   "cell_type": "code",
   "execution_count": 5,
   "metadata": {},
   "outputs": [
    {
     "name": "stdout",
     "output_type": "stream",
     "text": [
      "(4, 28, 28, 20)\n"
     ]
    }
   ],
   "source": [
    "y = tf.keras.layers.Conv2D(\n",
    "    filters=20, \n",
    "    kernel_size=8,\n",
    "    strides=1,\n",
    "    activation='relu', \n",
    "    padding=\"same\", \n",
    "    input_shape=input_shape[1:]\n",
    ")(x)\n",
    "print(y.shape)"
   ]
  },
  {
   "cell_type": "code",
   "execution_count": 6,
   "metadata": {},
   "outputs": [
    {
     "name": "stdout",
     "output_type": "stream",
     "text": [
      "(4, 7, 7, 20)\n"
     ]
    }
   ],
   "source": [
    "y = tf.keras.layers.Conv2D(\n",
    "    filters=20, \n",
    "    kernel_size=8,\n",
    "    strides=1,\n",
    "    activation='relu', \n",
    "    padding=\"same\", \n",
    "    input_shape=input_shape[1:]\n",
    ")(x)\n",
    "z = tf.keras.layers.MaxPool2D(4)(y)\n",
    "print(z.shape)"
   ]
  },
  {
   "cell_type": "code",
   "execution_count": null,
   "metadata": {},
   "outputs": [],
   "source": []
  }
 ],
 "metadata": {
  "kernelspec": {
   "display_name": "Python 3",
   "language": "python",
   "name": "python3"
  },
  "language_info": {
   "codemirror_mode": {
    "name": "ipython",
    "version": 3
   },
   "file_extension": ".py",
   "mimetype": "text/x-python",
   "name": "python",
   "nbconvert_exporter": "python",
   "pygments_lexer": "ipython3",
   "version": "3.7.4"
  }
 },
 "nbformat": 4,
 "nbformat_minor": 4
}
